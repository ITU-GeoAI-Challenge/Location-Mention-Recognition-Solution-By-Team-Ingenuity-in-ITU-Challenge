{
 "cells": [
  {
   "cell_type": "code",
   "execution_count": 8,
   "metadata": {},
   "outputs": [],
   "source": [
    "\n",
    "\n",
    "\n",
    "a=\"Please read below!! Another devastating fire has hit Northern California, people need help, whatever you can give, or anyway you can help, please do\\u1f64F!!\"\n",
    "\n"
   ]
  },
  {
   "cell_type": "code",
   "execution_count": 9,
   "metadata": {},
   "outputs": [],
   "source": [
    "b=\"Northern California\""
   ]
  },
  {
   "cell_type": "code",
   "execution_count": 10,
   "metadata": {},
   "outputs": [],
   "source": [
    "def find_index(sentence,word):\n",
    "    str2=word\n",
    "    str1=sentence\n",
    "    start_index=str1.index(str2)\n",
    "    length_word=len(str2)\n",
    "    end_index=start_index+length_word\n",
    "    print(\"Start Index: \",start_index)\n",
    "    print(\"End Index: \",end_index)\n",
    "    "
   ]
  },
  {
   "cell_type": "code",
   "execution_count": 11,
   "metadata": {},
   "outputs": [
    {
     "name": "stdout",
     "output_type": "stream",
     "text": [
      "Start Index:  53\n",
      "End Index:  72\n"
     ]
    }
   ],
   "source": [
    "find_index(a,b)"
   ]
  },
  {
   "cell_type": "code",
   "execution_count": 12,
   "metadata": {},
   "outputs": [],
   "source": [
    "# ! pip install pynotator --upgrade"
   ]
  },
  {
   "cell_type": "code",
   "execution_count": 13,
   "metadata": {},
   "outputs": [],
   "source": [
    "# from pynotator import Pynotator\n",
    "# annotations=Pynotator.annotate(\"ADAM S. SENKORO P.O. Box 105467 Dar es Salaam, Tanzania +255 769 359 399 senkoroa@gmail.com PERSONAL SKILLS Creativity Strong Communication Detail-oriented Team Work PERSONAL INFORMATION Nationality Tanzanian Birth Date March 08th, 1984 Gender Male EDUCATION & QUALIFICATIONS Sales Learning Program, IBM Global Sales School 2016 IBM Middle East and East Africa Masters of Science in Analogue and Digital Integrated Circuit Design 2009 Imperial College London, United Kingdom Bachelor of Engineering in Communications Engineering 2008 Aston University, Birmingham, United Kingdom EXPERIENCE IBM Tanzania July 2015 - April 2016 Territory Sales Manager Developed, through direct customer contact, an effective, ongoing business rela- tionship with major clients in the various sectors. Identified opportunities, provided so- lutions to clients' business needs to improve their business and overall performance. Selected and prioritised the high-growth and value revenue opportunities. Participated in or lead cross functional sales and marketing teams. Developed client value propositions that clearly identified financial and other business benefits. Selected territory distribution channels for solution delivery with Territory Partner Management. Identified and utilised all marketing resources available to help meet territory objectives. Accountable for total customer satisfaction, market share, IBM revenue and profit. Dimension Data March 2010 - July 2015 Account Manager Establish productive, professional relationships with key personnel in assigned customer accounts. Coordinate the involvement of company personnel, including support, service, and management resources, in order to meet account performance objec- tives and customers’ expectations Meet assigned targets for profitable sales volume and strategic objectives in assigned accounts Proactively lead a joint company-strategic account planning process that de- velops mutual performance objectives and financial targets Lead solution development efforts that best address customer needs, while coordinating the involvement of all necessary company personnel Proactively assesses, clarifies, validates customer needs on an on-going basis SimbaNet Jul 2007 – Sept 2007 Presales Engineer - Intern Worked with product management and marketing to help define/refine sales messages and ensure sales packages are developed and messages commu- nicated to the sales team Ensured Pre-Sales resources evolve in line with the marketing message and sales teams stated requirements Production of responses to requests for information and pricing Worked with sales personnel to provide product, business and technical knowl- edge in support of pre sales activities Developed product centric selling strategies Developed and generated sales and related reports for analysis SKILLS MS Office – Proficient Programming Languages Java, C, C++, Matlab, VHDL, Assembly, HTML Adobe CS6 Toolkit ACHIEVEMENT & HONORS Graduating Honors; BEng Communications First Class Honors Division I – NECTA Exams OF Level Secondary Education Dissertations o “Biomedical Peripheral Data Collection and Analysis Using New Genera- tion Mobile Phones as the Main Central Processing Unit.” - 2009 o “Hardware Modification and Software Development for a Personal/ Classroom Response System (RPS)” – 2008 The Aston University Prize - 2008 o Top final year student of the BEng Honors Degree – Communications En- gineering The H.K.P Burt Memorial Prize - 2006 o Top First year student of the BEng Honors Degree Programme – Commu- nications Engineering REFERENCES Available upon request.\",\"ADAM S\")"
   ]
  },
  {
   "cell_type": "code",
   "execution_count": 14,
   "metadata": {},
   "outputs": [],
   "source": [
    "# annotations"
   ]
  }
 ],
 "metadata": {
  "kernelspec": {
   "display_name": "Python 3.10.7 64-bit",
   "language": "python",
   "name": "python3"
  },
  "language_info": {
   "codemirror_mode": {
    "name": "ipython",
    "version": 3
   },
   "file_extension": ".py",
   "mimetype": "text/x-python",
   "name": "python",
   "nbconvert_exporter": "python",
   "pygments_lexer": "ipython3",
   "version": "3.10.7"
  },
  "orig_nbformat": 4,
  "vscode": {
   "interpreter": {
    "hash": "e7370f93d1d0cde622a1f8e1c04877d8463912d04d973331ad4851f04de6915a"
   }
  }
 },
 "nbformat": 4,
 "nbformat_minor": 2
}

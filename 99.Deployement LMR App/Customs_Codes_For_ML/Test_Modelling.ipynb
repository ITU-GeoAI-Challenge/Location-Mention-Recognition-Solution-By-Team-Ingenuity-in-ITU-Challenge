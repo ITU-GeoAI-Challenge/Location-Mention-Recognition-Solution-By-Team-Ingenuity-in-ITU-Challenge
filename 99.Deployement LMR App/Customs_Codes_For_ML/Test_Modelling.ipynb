{
 "cells": [
  {
   "cell_type": "code",
   "execution_count": 1,
   "metadata": {},
   "outputs": [
    {
     "name": "stderr",
     "output_type": "stream",
     "text": [
      "/home/innocent/.local/lib/python3.10/site-packages/tqdm/auto.py:22: TqdmWarning: IProgress not found. Please update jupyter and ipywidgets. See https://ipywidgets.readthedocs.io/en/stable/user_install.html\n",
      "  from .autonotebook import tqdm as notebook_tqdm\n",
      "2022-12-09 16:40:36.881061: I tensorflow/core/platform/cpu_feature_guard.cc:193] This TensorFlow binary is optimized with oneAPI Deep Neural Network Library (oneDNN) to use the following CPU instructions in performance-critical operations:  AVX2 FMA\n",
      "To enable them in other operations, rebuild TensorFlow with the appropriate compiler flags.\n",
      "2022-12-09 16:40:37.187801: W tensorflow/stream_executor/platform/default/dso_loader.cc:64] Could not load dynamic library 'libcudart.so.11.0'; dlerror: libcudart.so.11.0: cannot open shared object file: No such file or directory\n",
      "2022-12-09 16:40:37.187843: I tensorflow/stream_executor/cuda/cudart_stub.cc:29] Ignore above cudart dlerror if you do not have a GPU set up on your machine.\n",
      "2022-12-09 16:40:37.236874: E tensorflow/stream_executor/cuda/cuda_blas.cc:2981] Unable to register cuBLAS factory: Attempting to register factory for plugin cuBLAS when one has already been registered\n",
      "2022-12-09 16:40:38.578546: W tensorflow/stream_executor/platform/default/dso_loader.cc:64] Could not load dynamic library 'libnvinfer.so.7'; dlerror: libnvinfer.so.7: cannot open shared object file: No such file or directory\n",
      "2022-12-09 16:40:38.578704: W tensorflow/stream_executor/platform/default/dso_loader.cc:64] Could not load dynamic library 'libnvinfer_plugin.so.7'; dlerror: libnvinfer_plugin.so.7: cannot open shared object file: No such file or directory\n",
      "2022-12-09 16:40:38.578734: W tensorflow/compiler/tf2tensorrt/utils/py_utils.cc:38] TF-TRT Warning: Cannot dlopen some TensorRT libraries. If you would like to use Nvidia GPU with TensorRT, please make sure the missing libraries mentioned above are installed properly.\n",
      "2022-12-09 16:40:40.209681: W tensorflow/stream_executor/platform/default/dso_loader.cc:64] Could not load dynamic library 'libcuda.so.1'; dlerror: libcuda.so.1: cannot open shared object file: No such file or directory\n",
      "2022-12-09 16:40:40.209710: W tensorflow/stream_executor/cuda/cuda_driver.cc:263] failed call to cuInit: UNKNOWN ERROR (303)\n",
      "2022-12-09 16:40:40.209740: I tensorflow/stream_executor/cuda/cuda_diagnostics.cc:156] kernel driver does not appear to be running on this host (parrot): /proc/driver/nvidia/version does not exist\n"
     ]
    }
   ],
   "source": [
    "import pandas as pd \n",
    "import numpy as np \n",
    "import spacy\n",
    "import warnings\n",
    "from spacy import displacy\n",
    "warnings.filterwarnings(\"ignore\")\n",
    "pd.set_option(\"display.max_columns\",None)\n",
    "pd.set_option(\"display.max_rows\",None)\n",
    "pd.set_option(\"display.max_colwidth\",2)\n",
    "model=spacy.load('./model-best')"
   ]
  },
  {
   "cell_type": "code",
   "execution_count": 2,
   "metadata": {},
   "outputs": [],
   "source": [
    "twitter_text = \"For those wishing to donate blood for victims of California wildfires, just thought id mention that you dont have to donate specifically to the Red Cross. You can donate to any blood bank. Including UCI Medical Center in Orange, CA. The blood bank doesnt have to be Red Cross.\"\n",
    "tweet_id=\"0000000002\""
   ]
  },
  {
   "cell_type": "code",
   "execution_count": 3,
   "metadata": {},
   "outputs": [
    {
     "data": {
      "text/plain": [
       "{'tweet_id': '0000000002',\n",
       " 'location_mentions': [{'text': 'California',\n",
       "   'start_offset': 49,\n",
       "   'end_offset': 59},\n",
       "  {'text': 'Orange', 'start_offset': 221, 'end_offset': 227},\n",
       "  {'text': 'CA', 'start_offset': 229, 'end_offset': 231}]}"
      ]
     },
     "execution_count": 3,
     "metadata": {},
     "output_type": "execute_result"
    }
   ],
   "source": [
    "data_located_list=\"\"\n",
    "twitter_id=tweet_id\n",
    "a=twitter_text\n",
    "list_locations=[]\n",
    "dict_list = []\n",
    "\n",
    "def find_index(sentence,word):\n",
    "    str2=word\n",
    "    str1=sentence\n",
    "    start_index=str1.index(str2)\n",
    "    length_word=len(str2)\n",
    "    end_index=start_index+length_word\n",
    "    start=start_index\n",
    "    end=end_index\n",
    "    return start,end\n",
    "\n",
    "test_preds=model(twitter_text)\n",
    "for entity in test_preds.ents:\n",
    "    if entity.label_=='Location':\n",
    "        list_locations.append(entity.text)\n",
    "                         \n",
    "list_locs = set(list_locations)\n",
    "list_locations = set(list_locs)\n",
    "\n",
    "for b in list_locations:\n",
    "    data_located_Dict={}\n",
    "    data_located_Dict['text']=b\n",
    "    start_index,end_index=find_index(a,b) \n",
    "    data_located_Dict['start_offset']=start_index\n",
    "    data_located_Dict['end_offset']=end_index\n",
    "    dict_list.append(data_located_Dict)\n",
    "\n",
    "#Final Results\n",
    "Model_Results={\"tweet_id\":twitter_id,\"location_mentions\":dict_list}\n",
    "Model_Results "
   ]
  }
 ],
 "metadata": {
  "kernelspec": {
   "display_name": "Python 3.10.7 64-bit",
   "language": "python",
   "name": "python3"
  },
  "language_info": {
   "codemirror_mode": {
    "name": "ipython",
    "version": 3
   },
   "file_extension": ".py",
   "mimetype": "text/x-python",
   "name": "python",
   "nbconvert_exporter": "python",
   "pygments_lexer": "ipython3",
   "version": "3.10.7"
  },
  "orig_nbformat": 4,
  "vscode": {
   "interpreter": {
    "hash": "e7370f93d1d0cde622a1f8e1c04877d8463912d04d973331ad4851f04de6915a"
   }
  }
 },
 "nbformat": 4,
 "nbformat_minor": 2
}

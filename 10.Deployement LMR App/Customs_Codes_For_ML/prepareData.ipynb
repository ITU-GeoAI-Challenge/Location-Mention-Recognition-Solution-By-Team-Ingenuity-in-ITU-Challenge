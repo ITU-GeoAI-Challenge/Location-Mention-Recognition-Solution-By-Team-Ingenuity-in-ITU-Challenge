{
 "cells": [
  {
   "cell_type": "code",
   "execution_count": 1220,
   "metadata": {},
   "outputs": [],
   "source": [
    "import json\n",
    "import random\n",
    "import pickle\n",
    "import spacy\n",
    "from spacy.tokens import DocBin\n",
    "import warnings\n",
    "warnings.filterwarnings(\"ignore\")"
   ]
  },
  {
   "cell_type": "code",
   "execution_count": 1221,
   "metadata": {},
   "outputs": [
    {
     "data": {
      "text/plain": [
       "list"
      ]
     },
     "execution_count": 1221,
     "metadata": {},
     "output_type": "execute_result"
    }
   ],
   "source": [
    "def open_json_data(data_path):\n",
    "    mode=\"r\"\n",
    "    with open(data_path,mode) as data_cleaned:\n",
    "        data_cleaned=json.load(data_cleaned)\n",
    "        # random.shuffle(data_cleaned)\n",
    "    return data_cleaned\n",
    "data=\"data.json\"\n",
    "data_c=open_json_data(data)\n",
    "type(data_c)"
   ]
  },
  {
   "cell_type": "code",
   "execution_count": 1222,
   "metadata": {},
   "outputs": [
    {
     "data": {
      "text/plain": [
       "10366"
      ]
     },
     "execution_count": 1222,
     "metadata": {},
     "output_type": "execute_result"
    }
   ],
   "source": [
    "len(data_c)"
   ]
  },
  {
   "cell_type": "code",
   "execution_count": 1223,
   "metadata": {},
   "outputs": [
    {
     "data": {
      "text/plain": [
       "['Flash Flood Warning for Bamberg, Calhoun, Clarendon, Orangeburg, Richland, & Sumter Cos until 9AM #scwx #Matthew',\n",
       " {'location_mentions': [[24, 31, 'Location'],\n",
       "   [33, 40, 'Location'],\n",
       "   [42, 51, 'Location'],\n",
       "   [53, 63, 'Location'],\n",
       "   [65, 73, 'Location'],\n",
       "   [77, 83, 'Location']]}]"
      ]
     },
     "execution_count": 1223,
     "metadata": {},
     "output_type": "execute_result"
    }
   ],
   "source": [
    "data_c[0]"
   ]
  },
  {
   "cell_type": "code",
   "execution_count": 1224,
   "metadata": {},
   "outputs": [
    {
     "name": "stdout",
     "output_type": "stream",
     "text": [
      "Length Training Data: 8500\n",
      "Length Testing Data: 1366\n"
     ]
    }
   ],
   "source": [
    "Training_data=data_c[0:1500]+data_c[2000:9000]\n",
    "Testing_data=data_c[9000:]\n",
    "print(\"Length Training Data:\",len(Training_data))\n",
    "print(\"Length Testing Data:\",len(Testing_data))"
   ]
  },
  {
   "cell_type": "code",
   "execution_count": 1225,
   "metadata": {},
   "outputs": [],
   "source": [
    "# Training_data\n",
    "#0-2999"
   ]
  },
  {
   "cell_type": "code",
   "execution_count": 1226,
   "metadata": {},
   "outputs": [],
   "source": [
    "# Testing_data"
   ]
  },
  {
   "cell_type": "code",
   "execution_count": 1227,
   "metadata": {},
   "outputs": [],
   "source": [
    "pickle.dump(Training_data,open(\"Training_data.pickle\",\"wb\"))\n",
    "pickle.dump(Testing_data,open(\"Testing_data.pickle\",\"wb\"))"
   ]
  },
  {
   "cell_type": "code",
   "execution_count": 1228,
   "metadata": {},
   "outputs": [],
   "source": [
    "def open_pickle_data(path):\n",
    "    mode=\"rb\"\n",
    "    with open(path,mode) as data_Train:\n",
    "        data_Train=pickle.load(data_Train)\n",
    "    return data_Train"
   ]
  },
  {
   "cell_type": "code",
   "execution_count": 1229,
   "metadata": {},
   "outputs": [],
   "source": [
    "data_Train=open_pickle_data(\"Training_data.pickle\")\n",
    "# data_Train"
   ]
  },
  {
   "cell_type": "code",
   "execution_count": 1230,
   "metadata": {},
   "outputs": [],
   "source": [
    "data_Test=open_pickle_data(\"Testing_data.pickle\")\n",
    "# data_Test"
   ]
  },
  {
   "cell_type": "code",
   "execution_count": 1231,
   "metadata": {},
   "outputs": [],
   "source": [
    "class PrepareData:\n",
    "    nlp = spacy.blank(\"en\")\n",
    "    db = DocBin()\n",
    "    \n",
    "    def prepareTrainingData(self):\n",
    "        for text, annotations in data_Train:\n",
    "            doc = self.nlp(text)\n",
    "            ents = []\n",
    "            for start, end, label in annotations[\"location_mentions\"]:\n",
    "                span = doc.char_span(start, end, label=label)\n",
    "                ents.append(span)\n",
    "            doc.ents = ents\n",
    "            self.db.add(doc)\n",
    "        return self.db.to_disk(\"Training_data.spacy\")\n",
    "\n",
    "    def prepareTestingData(self):\n",
    "        for text, annotations in data_Test:\n",
    "            doc = self.nlp(text)\n",
    "            ents = []\n",
    "            for start, end, label in annotations[\"location_mentions\"]:\n",
    "                span = doc.char_span(start, end, label=label)\n",
    "                ents.append(span)\n",
    "            doc.ents = ents\n",
    "            self.db.add(doc)\n",
    "\n",
    "        return self.db.to_disk(\"Testing_data.spacy\")\n",
    "\n",
    "prepareData=PrepareData()"
   ]
  },
  {
   "cell_type": "code",
   "execution_count": 1232,
   "metadata": {},
   "outputs": [],
   "source": [
    "prepareData.prepareTrainingData()\n",
    "prepareData.prepareTestingData()"
   ]
  }
 ],
 "metadata": {
  "kernelspec": {
   "display_name": "Python 3.10.7 64-bit",
   "language": "python",
   "name": "python3"
  },
  "language_info": {
   "codemirror_mode": {
    "name": "ipython",
    "version": 3
   },
   "file_extension": ".py",
   "mimetype": "text/x-python",
   "name": "python",
   "nbconvert_exporter": "python",
   "pygments_lexer": "ipython3",
   "version": "3.10.7"
  },
  "orig_nbformat": 4,
  "vscode": {
   "interpreter": {
    "hash": "e7370f93d1d0cde622a1f8e1c04877d8463912d04d973331ad4851f04de6915a"
   }
  }
 },
 "nbformat": 4,
 "nbformat_minor": 2
}
